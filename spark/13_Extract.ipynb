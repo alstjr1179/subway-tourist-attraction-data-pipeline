{
 "cells": [
  {
   "cell_type": "code",
   "execution_count": 1,
   "metadata": {},
   "outputs": [
    {
     "name": "stdout",
     "output_type": "stream",
     "text": [
      "Collecting hdfs\n",
      "  Downloading hdfs-2.7.0-py3-none-any.whl (34 kB)\n",
      "Requirement already satisfied: requests>=2.7.0 in /usr/lib/python3/dist-packages (from hdfs) (2.22.0)\n",
      "Requirement already satisfied: six>=1.9.0 in /usr/lib/python3/dist-packages (from hdfs) (1.14.0)\n",
      "Collecting docopt\n",
      "  Downloading docopt-0.6.2.tar.gz (25 kB)\n",
      "Building wheels for collected packages: docopt\n",
      "  Building wheel for docopt (setup.py) ... \u001b[?25ldone\n",
      "\u001b[?25h  Created wheel for docopt: filename=docopt-0.6.2-py2.py3-none-any.whl size=13704 sha256=3b436ef1910b9416b87542070ad85f93907e5b4d119e7c74d2982107ce7f44c9\n",
      "  Stored in directory: /home/big/.cache/pip/wheels/56/ea/58/ead137b087d9e326852a851351d1debf4ada529b6ac0ec4e8c\n",
      "Successfully built docopt\n",
      "Installing collected packages: docopt, hdfs\n",
      "\u001b[33m  WARNING: The scripts hdfscli and hdfscli-avro are installed in '/home/big/.local/bin' which is not on PATH.\n",
      "  Consider adding this directory to PATH or, if you prefer to suppress this warning, use --no-warn-script-location.\u001b[0m\n",
      "Successfully installed docopt-0.6.2 hdfs-2.7.0\n"
     ]
    }
   ],
   "source": [
    "# !pip install hdfs\n",
    "# ref : https://hdfscli.readthedocs.io/en/latest/quickstart.html#python-bindings\n"
   ]
  },
  {
   "cell_type": "code",
   "execution_count": 2,
   "metadata": {},
   "outputs": [],
   "source": [
    "import requests\n",
    "import json\n",
    "import datetime as dt\n",
    "from hdfs import InsecureClient\n",
    "client = InsecureClient('http://localhost:9870', user='big')"
   ]
  },
  {
   "cell_type": "markdown",
   "metadata": {},
   "source": [
    "## hdfs로 부터 읽기"
   ]
  },
  {
   "cell_type": "code",
   "execution_count": 5,
   "metadata": {},
   "outputs": [
    {
     "name": "stdout",
     "output_type": "stream",
     "text": [
      "하명도 스파크 50\r\n",
      "홍길동 스파크 80\r\n",
      "임꺽정 스파크 60\r\n",
      "임요환 텐서플로우 100\r\n",
      "홍진호 텐서플로우 22\r\n",
      "홍진호 텐서플로우 22\r\n",
      "이윤열 텐서플로우 90\r\n",
      "최연성 장고 100\n"
     ]
    }
   ],
   "source": [
    "with client.read('/rdd/score.txt') as reader:\n",
    "  score = reader.read()\n",
    "score_str = bytes.decode(score)\n",
    "print(score_str)"
   ]
  },
  {
   "cell_type": "markdown",
   "metadata": {},
   "source": [
    "## hdfs에 쓰기"
   ]
  },
  {
   "cell_type": "code",
   "execution_count": 12,
   "metadata": {},
   "outputs": [],
   "source": [
    "with open('/home/big/study/data/corona_data/sido_area.csv', encoding='CP949') as reader, client.write('/corona_data/loc/sido_area.csv') as writer:\n",
    "  for line in reader:\n",
    "        writer.write(line.encode('CP949'))\n"
   ]
  },
  {
   "cell_type": "code",
   "execution_count": 14,
   "metadata": {},
   "outputs": [
    {
     "data": {
      "text/plain": [
       "'/corona_data/loc'"
      ]
     },
     "execution_count": 14,
     "metadata": {},
     "output_type": "execute_result"
    }
   ],
   "source": [
    "client.upload('/corona_data/loc', '/home/big/study/data/corona_data/')"
   ]
  },
  {
   "cell_type": "markdown",
   "metadata": {},
   "source": [
    "## hdfs에 수정하기"
   ]
  },
  {
   "cell_type": "code",
   "execution_count": 16,
   "metadata": {},
   "outputs": [],
   "source": [
    "client.write('/rdd/score.txt',  '최연성 장고 100'.encode('UTF-8'), append=True)"
   ]
  },
  {
   "cell_type": "markdown",
   "metadata": {},
   "source": [
    "## hdfs 권한 수정"
   ]
  },
  {
   "cell_type": "code",
   "execution_count": 17,
   "metadata": {},
   "outputs": [],
   "source": [
    "client.set_permission('/corona_data/loc', 777)"
   ]
  },
  {
   "cell_type": "markdown",
   "metadata": {},
   "source": [
    "## hdfs 삭제"
   ]
  },
  {
   "cell_type": "code",
   "execution_count": 6,
   "metadata": {
    "scrolled": true
   },
   "outputs": [
    {
     "data": {
      "text/plain": [
       "True"
      ]
     },
     "execution_count": 6,
     "metadata": {},
     "output_type": "execute_result"
    }
   ],
   "source": [
    "client.delete('/corona_data/vaccine/corona_vaccine_2022-09-14.json')\n",
    "#client.delete('/corona_data/loc/sido_population.xlsx')"
   ]
  },
  {
   "cell_type": "markdown",
   "metadata": {},
   "source": [
    "## REST_API로 데이터를 호출해 HDFS에 저장"
   ]
  },
  {
   "cell_type": "code",
   "execution_count": 3,
   "metadata": {},
   "outputs": [],
   "source": [
    "#!pip install requests\n",
    "\n",
    "def execute_rest_api(method, url, headers, params):    \n",
    "    if method == 'get':\n",
    "        res = requests.get(url, params=params, headers=headers)\n",
    "    elif method == 'post':\n",
    "        res = requests.post(url, params=params, headers=headers)\n",
    "    \n",
    "    if res == None or res.status_code != 200:\n",
    "        raise Exception('응답코드 : ' + str(res.status_code))\n",
    "\n",
    "    return res.text\n"
   ]
  },
  {
   "cell_type": "markdown",
   "metadata": {},
   "source": [
    "### 기준일자 함수"
   ]
  },
  {
   "cell_type": "code",
   "execution_count": 4,
   "metadata": {},
   "outputs": [],
   "source": [
    "def cal_std_day(befor_day):   \n",
    "    x = dt.datetime.now() - dt.timedelta(befor_day)\n",
    "    year = x.year\n",
    "    month = x.month if x.month >= 10 else '0'+ str(x.month)\n",
    "    day = x.day if x.day >= 10 else '0'+ str(x.day)  \n",
    "    return str(year)+ '-' +str(month)+ '-' +str(day)"
   ]
  },
  {
   "cell_type": "markdown",
   "metadata": {},
   "source": [
    "### logger"
   ]
  },
  {
   "cell_type": "code",
   "execution_count": 8,
   "metadata": {},
   "outputs": [],
   "source": [
    "import logging\n",
    "co_logger = logging.getLogger('corona_api')\n",
    "handler = logging.FileHandler('./log/rest_api/'+cal_std_day(0)+'.log')\n",
    "co_logger.addHandler(handler)"
   ]
  },
  {
   "cell_type": "code",
   "execution_count": 27,
   "metadata": {},
   "outputs": [
    {
     "name": "stderr",
     "output_type": "stream",
     "text": [
      "ERROR:corona_api:테스트 에러 로그 입니다. 하하하\n"
     ]
    }
   ],
   "source": [
    "co_logger.error('테스트 에러 로그 입니다. 하하하')"
   ]
  },
  {
   "cell_type": "markdown",
   "metadata": {},
   "source": [
    "### api 호출"
   ]
  },
  {
   "cell_type": "code",
   "execution_count": 23,
   "metadata": {
    "scrolled": false
   },
   "outputs": [
    {
     "name": "stderr",
     "output_type": "stream",
     "text": [
      "ERROR:corona_api:{\"is_success\": \"Fail\", \"type\": \"corona_patient\", \"std_day\": \"2022-09-14\", \"params\": {\"serviceKey\": \"7E2bfvO9I4sNthgKkGQ317Fa599toGAa8AU0+V1vd3JuJW1k+Web3iaSbsp5PjKgNiPWdsfweZjLRVopDaQuLQ==\", \"pageNo\": \"1\", \"numOfRows\": \"500\", \"apiType\": \"JSON\", \"std_day\": \"2022-09-14\"}, \"err_msg\": \"division by zero\"}\n"
     ]
    }
   ],
   "source": [
    "url = 'http://apis.data.go.kr/1352000/ODMS_COVID_04/callCovid04Api'\n",
    "service_key = '7E2bfvO9I4sNthgKkGQ317Fa599toGAa8AU0+V1vd3JuJW1k+Web3iaSbsp5PjKgNiPWdsfweZjLRVopDaQuLQ=='\n",
    "file_dir = '/corona_data/patient/'\n",
    "\n",
    "def create_param(befor_day):\n",
    "    return {\n",
    "        'serviceKey':service_key\n",
    "        ,'pageNo':'1'\n",
    "        ,'numOfRows':'500'\n",
    "        ,'apiType':'JSON'\n",
    "        ,'std_day':cal_std_day(befor_day)\n",
    "    }\n",
    "\n",
    "for i in range(1, 2):\n",
    "    params = create_param(i)\n",
    "    log_dict = {\n",
    "            \"is_success\":\"Fail\"\n",
    "        ,   \"type\":\"corona_patient\"\n",
    "        ,   \"std_day\":params['std_day']\n",
    "        ,   \"params\":params\n",
    "    }\n",
    "\n",
    "    try:\n",
    "        res = execute_rest_api('get',url, {}, params)\n",
    "        file_name = 'corona_patient_' + params['std_day'] + '.json'\n",
    "        client.write(file_dir+file_name, res, encoding='utf-8')\n",
    "    except Exception as e:\n",
    "        log_dict['err_msg'] = e.__str__()\n",
    "        log_json = json.dumps(log_dict, ensure_ascii=False)\n",
    "        co_logger.error(log_json)\n",
    "        \n",
    "     \n",
    "\n"
   ]
  },
  {
   "cell_type": "markdown",
   "metadata": {},
   "source": [
    "## 웹크롤링 hdfs 저장"
   ]
  },
  {
   "cell_type": "code",
   "execution_count": 5,
   "metadata": {},
   "outputs": [],
   "source": [
    "# !pip install BeautifulSoup4\n",
    "from bs4 import BeautifulSoup\n",
    "\n",
    "file_dir = '/corona_data/vaccine/'\n",
    "file_name = 'corona_vaccine_' + cal_std_day(1) + '.json'\n",
    "\n",
    "url = 'https://ncv.kdca.go.kr/mainStatus.es?mid=a11702000000'\n",
    "response_txt = execute_rest_api('get',url,{},{})\n",
    "soup = BeautifulSoup(response_txt, 'html.parser')\n",
    "trs = soup.select('#content > div.data_table.tbl_scrl_t > table > tbody > tr')\n",
    "\n",
    "cols = ['loc', 'v1', 'v2', 'v3', 'v4']\n",
    "data = []\n",
    "\n",
    "for idx, tr in enumerate(trs):\n",
    "    if idx == 0:\n",
    "        continue\n",
    "    th = tr.select('th')\n",
    "    tds = tr.select('td')\n",
    "    \n",
    "    rows = []\n",
    "    rows.append(th[0].text.replace(' ', '').replace('\\r\\n', ''))\n",
    "    \n",
    "    for idx, td in enumerate(tds):\n",
    "        if idx % 2 == 0:\n",
    "            continue            \n",
    "        rows.append(td.text.replace(' ', '').replace('\\r\\n', '').replace(',' , ''))\n",
    "    \n",
    "    tmp = dict(zip(cols, rows))\n",
    "    data.append(tmp)\n",
    "\n",
    "res = {\n",
    "    'meta':{\n",
    "        'desc':'지역별 코로나 예방접종 인구 현황',\n",
    "        'cols':{\n",
    "            'loc':'지역'\n",
    "            ,'v1':'1차접종자수'\n",
    "            ,'v2':'2차접종자수'\n",
    "            ,'v3':'3차접종자수'\n",
    "            ,'v4':'4차접종자수'\n",
    "        },\n",
    "        'std_day':cal_std_day(1)\n",
    "    },\n",
    "   'data':data\n",
    "}\n",
    "\n",
    "client.write(file_dir+file_name, json.dumps(res, ensure_ascii=False), encoding='utf-8')\n",
    "    \n",
    "    \n",
    "\n",
    "\n",
    "\n",
    "\n",
    "\n",
    "\n",
    "\n",
    "\n"
   ]
  },
  {
   "cell_type": "code",
   "execution_count": null,
   "metadata": {},
   "outputs": [],
   "source": []
  }
 ],
 "metadata": {
  "kernelspec": {
   "display_name": "Python 3.10.5 64-bit",
   "language": "python",
   "name": "python3"
  },
  "language_info": {
   "codemirror_mode": {
    "name": "ipython",
    "version": 3
   },
   "file_extension": ".py",
   "mimetype": "text/x-python",
   "name": "python",
   "nbconvert_exporter": "python",
   "pygments_lexer": "ipython3",
   "version": "3.10.5"
  },
  "vscode": {
   "interpreter": {
    "hash": "3196968d684371006099b3d55edeef8ed90365227a30deaef86e5d4aa8519be0"
   }
  }
 },
 "nbformat": 4,
 "nbformat_minor": 5
}
