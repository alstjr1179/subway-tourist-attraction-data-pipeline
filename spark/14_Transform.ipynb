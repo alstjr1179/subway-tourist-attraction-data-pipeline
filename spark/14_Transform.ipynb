{
 "cells": [
  {
   "cell_type": "code",
   "execution_count": 1,
   "metadata": {},
   "outputs": [],
   "source": [
    "from IPython.core.interactiveshell import InteractiveShell\n",
    "InteractiveShell.ast_node_interactivity = \"all\""
   ]
  },
  {
   "cell_type": "code",
   "execution_count": null,
   "metadata": {},
   "outputs": [],
   "source": [
    "# matplotlib 한글 꺠짐 방지\n",
    "# apt-get update\n",
    "# apt-get install fonts-nanum* \n",
    "# apt-get install fontconfig\n",
    "# fc-cache -fv  # font 캐시 날리기\n",
    "# rm -rf /home/hy1/.cache/matplotlib/  #matplotliob 폰트 캐시 날리기\n"
   ]
  },
  {
   "cell_type": "code",
   "execution_count": 3,
   "metadata": {},
   "outputs": [
    {
     "name": "stdout",
     "output_type": "stream",
     "text": [
      "Requirement already satisfied: pandas in /home/big/.local/lib/python3.8/site-packages (1.4.4)\r\n",
      "Requirement already satisfied: python-dateutil>=2.8.1 in /home/big/.local/lib/python3.8/site-packages (from pandas) (2.8.2)\r\n",
      "Requirement already satisfied: pytz>=2020.1 in /home/big/.local/lib/python3.8/site-packages (from pandas) (2022.2.1)\r\n",
      "Requirement already satisfied: numpy>=1.18.5; platform_machine != \"aarch64\" and platform_machine != \"arm64\" and python_version < \"3.10\" in /home/big/.local/lib/python3.8/site-packages (from pandas) (1.23.2)\r\n",
      "Requirement already satisfied: six>=1.5 in /usr/lib/python3/dist-packages (from python-dateutil>=2.8.1->pandas) (1.14.0)\r\n"
     ]
    }
   ],
   "source": [
    "#!pip install matplotlib\n",
    "#!pip install pandas"
   ]
  },
  {
   "cell_type": "code",
   "execution_count": 2,
   "metadata": {},
   "outputs": [],
   "source": [
    "from datetime import date, datetime\n",
    "from pyspark.sql.types import *\n",
    "from pyspark.sql.functions import *\n",
    "import datetime as dt\n",
    "import pandas as pd\n",
    "import matplotlib.pyplot as plt #그래프 패키지 모듈 등록\n",
    "%matplotlib inline \n"
   ]
  },
  {
   "cell_type": "code",
   "execution_count": 3,
   "metadata": {},
   "outputs": [],
   "source": [
    "def cal_std_day(befor_day):   \n",
    "    x = dt.datetime.now() - dt.timedelta(befor_day)\n",
    "    year = x.year\n",
    "    month = x.month if x.month >= 10 else '0'+ str(x.month)\n",
    "    day = x.day if x.day >= 10 else '0'+ str(x.day)  \n",
    "    return str(year)+ '-' +str(month)+ '-' +str(day)"
   ]
  },
  {
   "cell_type": "code",
   "execution_count": 4,
   "metadata": {},
   "outputs": [],
   "source": [
    "import platform\n",
    "\n",
    "from matplotlib import font_manager, rc\n",
    "plt.rcParams['axes.unicode_minus'] = False\n",
    "\n",
    "if platform.system() == 'Darwin':  # 맥OS \n",
    "    rc('font', family='AppleGothic')\n",
    "elif platform.system() == 'Windows':  # 윈도우\n",
    "    path = \"c:/Windows/Fonts/malgun.ttf\"\n",
    "    font_name = font_manager.FontProperties(fname=path).get_name()\n",
    "    rc('font', family=font_name)\n",
    "else:\n",
    "    rc('font', family='NanumGothic')"
   ]
  },
  {
   "cell_type": "markdown",
   "metadata": {},
   "source": [
    "## Transform"
   ]
  },
  {
   "cell_type": "markdown",
   "metadata": {},
   "source": [
    "### 1. 지역별 단위면적(km)당 인구수와 코로나 확진자 수의 상관관계를 구해보자"
   ]
  },
  {
   "cell_type": "code",
   "execution_count": 5,
   "metadata": {},
   "outputs": [
    {
     "name": "stderr",
     "output_type": "stream",
     "text": [
      "                                                                                \r"
     ]
    },
    {
     "name": "stdout",
     "output_type": "stream",
     "text": [
      "+----+----+-----+\n",
      "| loc|area|ratio|\n",
      "+----+----+-----+\n",
      "|서울|605 |  0.6|\n",
      "|부산|770 |  0.8|\n",
      "|대구|883 |  0.9|\n",
      "+----+----+-----+\n",
      "only showing top 3 rows\n",
      "\n"
     ]
    },
    {
     "name": "stderr",
     "output_type": "stream",
     "text": [
      "\r",
      "[Stage 3:>                                                          (0 + 1) / 1]\r"
     ]
    },
    {
     "name": "stdout",
     "output_type": "stream",
     "text": [
      "+----+---------+---------+---------+\n",
      "| loc|    total|     male|   female|\n",
      "+----+---------+---------+---------+\n",
      "|전국|52739009 |26360035 |26378974 |\n",
      "|서울| 9736027 | 4721977 | 5014050 |\n",
      "|부산| 3396109 | 1663619 | 1732490 |\n",
      "+----+---------+---------+---------+\n",
      "only showing top 3 rows\n",
      "\n"
     ]
    },
    {
     "name": "stderr",
     "output_type": "stream",
     "text": [
      "\r",
      "                                                                                \r"
     ]
    }
   ],
   "source": [
    "# 면적, 인구정보\n",
    "area = spark.read.csv('/corona_data/loc/sido_area.csv', encoding='CP949', header=True)\n",
    "popu = spark.read.csv('/corona_data/loc/sido_population.csv', encoding='CP949', header=True)\n",
    "\n",
    "area.show(3)\n",
    "popu.show(3)"
   ]
  },
  {
   "cell_type": "code",
   "execution_count": 6,
   "metadata": {},
   "outputs": [
    {
     "name": "stderr",
     "output_type": "stream",
     "text": [
      "[Stage 5:>                                                          (0 + 1) / 1]\r"
     ]
    },
    {
     "name": "stdout",
     "output_type": "stream",
     "text": [
      "+----+------------+\n",
      "| loc|popu_density|\n",
      "+----+------------+\n",
      "|서울|       16093|\n",
      "|부산|        4411|\n",
      "|대구|        2733|\n",
      "|인천|        2831|\n",
      "|광주|        2920|\n",
      "|대전|        2722|\n",
      "|울산|        1072|\n",
      "|세종|         811|\n",
      "|경기|        1366|\n",
      "|강원|          93|\n",
      "|충북|         221|\n",
      "|충남|         265|\n",
      "|전북|         226|\n",
      "|전남|         152|\n",
      "|경북|         141|\n",
      "|경남|         321|\n",
      "|제주|         378|\n",
      "+----+------------+\n",
      "\n"
     ]
    },
    {
     "name": "stderr",
     "output_type": "stream",
     "text": [
      "\r",
      "                                                                                \r"
     ]
    }
   ],
   "source": [
    "area_popu = area.join(popu, on='loc')\n",
    "#area_popu.show()\n",
    "area_popu = area_popu.select(area_popu.loc, ceil((area_popu.total/area_popu.area)).alias('popu_density'))\n",
    "area_popu.show()\n"
   ]
  },
  {
   "cell_type": "code",
   "execution_count": 7,
   "metadata": {
    "scrolled": false
   },
   "outputs": [
    {
     "name": "stderr",
     "output_type": "stream",
     "text": [
      "[Stage 5:>                                                          (0 + 1) / 1]\r"
     ]
    },
    {
     "name": "stdout",
     "output_type": "stream",
     "text": [
      "+--------------------+---------+------+----------+--------------+----------+\n",
      "|               items|numOfRows|pageNo|resultCode|     resultMsg|totalCount|\n",
      "+--------------------+---------+------+----------+--------------+----------+\n",
      "|[{1465, 1461477, ...|      500|     1|        00|NORMAL SERVICE|     19684|\n",
      "+--------------------+---------+------+----------+--------------+----------+\n",
      "\n"
     ]
    },
    {
     "name": "stderr",
     "output_type": "stream",
     "text": [
      "\r",
      "                                                                                \r"
     ]
    }
   ],
   "source": [
    "# 코로나 감염자 데이터 가져오기\n",
    "file_name = '/corona_data/patient/corona_patient_' + cal_std_day(2) + '.json'\n",
    "tmp = spark.read.json(file_name, encoding='UTF-8')\n",
    "tmp.show(3)"
   ]
  },
  {
   "cell_type": "code",
   "execution_count": 8,
   "metadata": {},
   "outputs": [],
   "source": [
    "# 지역명과, 10만명 당 감염 현황\n",
    "tmp2 = tmp.select('items').first()\n",
    "co_patient = spark.createDataFrame(tmp2['items'])\n",
    "#co_patient.show(3)\n",
    "\n",
    "# tmp3 = co_patient.select(co_patient.gubun.alias('loc'), co_patient.qurRate)\n",
    "# tmp3.show(3)\n",
    "# co_rate = area_popu.join(tmp3, on='loc').distinct().orderBy(col('loc'))\n",
    "# co_rate.show()\n",
    "\n"
   ]
  },
  {
   "cell_type": "code",
   "execution_count": 9,
   "metadata": {},
   "outputs": [
    {
     "ename": "NameError",
     "evalue": "name 'co_rate' is not defined",
     "output_type": "error",
     "traceback": [
      "\u001b[0;31m---------------------------------------------------------------------------\u001b[0m",
      "\u001b[0;31mNameError\u001b[0m                                 Traceback (most recent call last)",
      "Input \u001b[0;32mIn [9]\u001b[0m, in \u001b[0;36m<cell line: 1>\u001b[0;34m()\u001b[0m\n\u001b[0;32m----> 1\u001b[0m pd_co \u001b[38;5;241m=\u001b[39m \u001b[43mco_rate\u001b[49m\u001b[38;5;241m.\u001b[39mtoPandas()\n\u001b[1;32m      2\u001b[0m pd_co[\u001b[38;5;124m'\u001b[39m\u001b[38;5;124mqurRate\u001b[39m\u001b[38;5;124m'\u001b[39m] \u001b[38;5;241m=\u001b[39m pd_co[\u001b[38;5;124m'\u001b[39m\u001b[38;5;124mqurRate\u001b[39m\u001b[38;5;124m'\u001b[39m]\u001b[38;5;241m.\u001b[39mastype(\u001b[38;5;28mint\u001b[39m)\n\u001b[1;32m      3\u001b[0m pd_co\u001b[38;5;241m.\u001b[39mplot(kind\u001b[38;5;241m=\u001b[39m\u001b[38;5;124m'\u001b[39m\u001b[38;5;124mscatter\u001b[39m\u001b[38;5;124m'\u001b[39m\n\u001b[1;32m      4\u001b[0m            ,x\u001b[38;5;241m=\u001b[39m\u001b[38;5;124m'\u001b[39m\u001b[38;5;124mpopu_density\u001b[39m\u001b[38;5;124m'\u001b[39m\n\u001b[1;32m      5\u001b[0m            ,y\u001b[38;5;241m=\u001b[39m\u001b[38;5;124m'\u001b[39m\u001b[38;5;124mqurRate\u001b[39m\u001b[38;5;124m'\u001b[39m\n\u001b[1;32m      6\u001b[0m            ,ylim\u001b[38;5;241m=\u001b[39m(\u001b[38;5;241m30000\u001b[39m,\u001b[38;5;241m50000\u001b[39m)\n\u001b[1;32m      7\u001b[0m            ,figsize\u001b[38;5;241m=\u001b[39m(\u001b[38;5;241m6\u001b[39m, \u001b[38;5;241m6\u001b[39m)\n\u001b[1;32m      8\u001b[0m           )\n",
      "\u001b[0;31mNameError\u001b[0m: name 'co_rate' is not defined"
     ]
    }
   ],
   "source": [
    "pd_co = co_rate.toPandas()\n",
    "pd_co['qurRate'] = pd_co['qurRate'].astype(int)\n",
    "pd_co.plot(kind='scatter'\n",
    "           ,x='popu_density'\n",
    "           ,y='qurRate'\n",
    "           ,ylim=(30000,50000)\n",
    "           ,figsize=(6, 6)\n",
    "          )\n"
   ]
  },
  {
   "cell_type": "markdown",
   "metadata": {},
   "source": [
    "### 2.  4차 예방접종 완료자와 코로나 확진자 수의 상관관계를 구해보자"
   ]
  },
  {
   "cell_type": "code",
   "execution_count": 9,
   "metadata": {},
   "outputs": [
    {
     "name": "stderr",
     "output_type": "stream",
     "text": [
      "[Stage 30:>                                                         (0 + 1) / 1]\r"
     ]
    },
    {
     "name": "stdout",
     "output_type": "stream",
     "text": [
      "+----+------+-------+\n",
      "| loc|v_rate|qurRate|\n",
      "+----+------+-------+\n",
      "|강원|    18|  45979|\n",
      "|경기|    13|  47883|\n",
      "|경남|    15|  44098|\n",
      "+----+------+-------+\n",
      "only showing top 3 rows\n",
      "\n"
     ]
    },
    {
     "name": "stderr",
     "output_type": "stream",
     "text": [
      "\r",
      "                                                                                \r"
     ]
    }
   ],
   "source": [
    "file_name = '/corona_data/vaccine/corona_vaccine_' + cal_std_day(1) + '.json'\n",
    "vaccine = spark.read.json(file_name)\n",
    "#vaccine.show(3)\n",
    "vaccine_df = spark.createDataFrame(vaccine.select('data').first()['data'])\n",
    "#vaccine_df.show()\n",
    "\n",
    "pop_vaccine = vaccine_df.join(popu, on='loc').select('loc', col('v4'), col('total'),\n",
    "                                                     ceil(\n",
    "                                                         (col('v4')/col('total')) * 100\n",
    "                                                     ).alias('v_rate'))\n",
    "#pop_vaccine.show(100)\n",
    "tmp3 = co_patient.select(co_patient.gubun.alias('loc'), co_patient.qurRate)\n",
    "co_vaccine_df = pop_vaccine.join(tmp3, on='loc')\n",
    "co_vaccine_df = co_vaccine_df.select('loc', 'v_rate', 'qurRate').distinct()\n",
    "co_vaccine_df.show(3)\n"
   ]
  },
  {
   "cell_type": "code",
   "execution_count": 10,
   "metadata": {},
   "outputs": [
    {
     "name": "stderr",
     "output_type": "stream",
     "text": [
      "\r",
      "[Stage 36:>                                                         (0 + 1) / 1]\r",
      "\r",
      "                                                                                \r"
     ]
    },
    {
     "data": {
      "text/plain": [
       "<AxesSubplot:xlabel='v_rate', ylabel='qurRate'>"
      ]
     },
     "execution_count": 10,
     "metadata": {},
     "output_type": "execute_result"
    },
    {
     "data": {
      "image/png": "[encoded data removed]",
      "text/plain": [
       "<Figure size 700x700 with 1 Axes>"
      ]
     },
     "metadata": {},
     "output_type": "display_data"
    }
   ],
   "source": [
    "pd_vac = co_vaccine_df.toPandas()\n",
    "\n",
    "pd_vac['qurRate'] = pd_vac['qurRate'].astype(int)\n",
    "pd_vac.plot(kind='scatter'\n",
    "           ,x='v_rate'\n",
    "           ,y='qurRate'\n",
    "           ,figsize=(7, 7)\n",
    "          )"
   ]
  },
  {
   "cell_type": "markdown",
   "metadata": {},
   "source": [
    "### 3. 다중이용시설과 코로나 확진자 수의 상관관계"
   ]
  },
  {
   "cell_type": "code",
   "execution_count": 9,
   "metadata": {
    "scrolled": false
   },
   "outputs": [
    {
     "name": "stdout",
     "output_type": "stream",
     "text": [
      "+----+----+------+----------------+--------------+--------+\n",
      "|연도|광역|시군구|          시설명|사업자등록번호|  시설군|\n",
      "+----+----+------+----------------+--------------+--------+\n",
      "|2020|강원|강릉시|(주)경포솔향온천|  127-86-57613|  목욕장|\n",
      "|2020|강원|강릉시|  24시황실사우나|  226-33-03247|  목욕장|\n",
      "|2020|강원|강릉시|    강릉고려병원|  226-82-03662|의료기관|\n",
      "+----+----+------+----------------+--------------+--------+\n",
      "only showing top 3 rows\n",
      "\n"
     ]
    }
   ],
   "source": [
    "facility = spark.read.csv('/corona_data/loc/전국다중이용시설.csv', encoding='CP949', header=True)\n",
    "facility.show(3)\n"
   ]
  },
  {
   "cell_type": "code",
   "execution_count": 10,
   "metadata": {},
   "outputs": [
    {
     "name": "stderr",
     "output_type": "stream",
     "text": [
      "[Stage 16:>                                                         (0 + 1) / 1]\r"
     ]
    },
    {
     "name": "stdout",
     "output_type": "stream",
     "text": [
      "+----+--------+-------+\n",
      "| loc|fac_popu|qurRate|\n",
      "+----+--------+-------+\n",
      "|강원|      38|  45979|\n",
      "|경기|      46|  47883|\n",
      "|경남|      41|  44098|\n",
      "|경북|      36|  41475|\n",
      "|광주|      51|  49604|\n",
      "|대구|      43|  43971|\n",
      "|대전|      53|  48307|\n",
      "|부산|      44|  43180|\n",
      "|서울|      54|  49673|\n",
      "|세종|      65|  50913|\n",
      "|울산|      38|  46618|\n",
      "|인천|      46|  47227|\n",
      "|전남|      45|  43984|\n",
      "|전북|      42|  45901|\n",
      "|제주|      45|  48672|\n",
      "|충남|      38|  45963|\n",
      "|충북|      38|  47313|\n",
      "+----+--------+-------+\n",
      "\n"
     ]
    },
    {
     "name": "stderr",
     "output_type": "stream",
     "text": [
      "\r",
      "                                                                                \r"
     ]
    }
   ],
   "source": [
    "fac_cnt = facility.groupBy(facility.광역.alias('loc')).agg(count('*').alias('fac_cnt'))\n",
    "tmp = popu.join(fac_cnt, on='loc')\n",
    "fac_popu = tmp.select('loc', ceil(tmp.fac_cnt/tmp.total*100000).alias('fac_popu'))\n",
    "\n",
    "tmp3 = co_patient.select(co_patient.gubun.alias('loc'), co_patient.qurRate)\n",
    "fac_rate = fac_popu.join(tmp3, on='loc').distinct()\n",
    "fac_rate.show()"
   ]
  },
  {
   "cell_type": "code",
   "execution_count": 12,
   "metadata": {},
   "outputs": [
    {
     "name": "stderr",
     "output_type": "stream",
     "text": [
      "\r",
      "[Stage 25:>                                                         (0 + 1) / 1]\r",
      "\r",
      "                                                                                \r"
     ]
    },
    {
     "data": {
      "text/plain": [
       "<AxesSubplot:xlabel='fac_popu', ylabel='qurRate'>"
      ]
     },
     "execution_count": 12,
     "metadata": {},
     "output_type": "execute_result"
    },
    {
     "name": "stderr",
     "output_type": "stream",
     "text": [
      "findfont: Font family ['NanumGothic'] not found. Falling back to DejaVu Sans.\n"
     ]
    },
    {
     "data": {
      "image/png": "[encoded data removed]",
      "text/plain": [
       "<Figure size 600x600 with 1 Axes>"
      ]
     },
     "metadata": {},
     "output_type": "display_data"
    }
   ],
   "source": [
    "pd_fac = fac_rate.toPandas()\n",
    "\n",
    "pd_fac['qurRate'] = pd_fac['qurRate'].astype(int)\n",
    "pd_fac.plot(kind='scatter'\n",
    "           ,x='fac_popu'\n",
    "           ,y='qurRate'\n",
    "           ,ylim=(40000,55000)\n",
    "           ,figsize=(6, 6) \n",
    "          )"
   ]
  },
  {
   "cell_type": "markdown",
   "metadata": {},
   "source": [
    "### 4. 요일별 코로나 확진자 수를 구해보자"
   ]
  },
  {
   "cell_type": "code",
   "execution_count": 10,
   "metadata": {
    "scrolled": true
   },
   "outputs": [
    {
     "name": "stderr",
     "output_type": "stream",
     "text": [
      "                                                                                \r"
     ]
    }
   ],
   "source": [
    "file_name = '/corona_data/patient/'\n",
    "tmp = spark.read.json(file_name, encoding='UTF-8')\n"
   ]
  },
  {
   "cell_type": "code",
   "execution_count": 27,
   "metadata": {
    "scrolled": false
   },
   "outputs": [
    {
     "name": "stderr",
     "output_type": "stream",
     "text": [
      "                                                                                \r"
     ]
    },
    {
     "name": "stdout",
     "output_type": "stream",
     "text": [
      "+-----------+---------+\n",
      "|day_of_week| patients|\n",
      "+-----------+---------+\n",
      "|          1|1839096.0|\n",
      "|          2|1344660.0|\n",
      "|          3|2728572.0|\n",
      "|          4|3448596.0|\n",
      "|          5|3559088.0|\n",
      "|          6|2892264.0|\n",
      "|          7|2320960.0|\n",
      "+-----------+---------+\n",
      "\n"
     ]
    },
    {
     "name": "stderr",
     "output_type": "stream",
     "text": [
      "\r",
      "[Stage 36:>                                                         (0 + 1) / 1]\r"
     ]
    },
    {
     "name": "stdout",
     "output_type": "stream",
     "text": [
      "+-----------+---------+\n",
      "|day_of_week| patients|\n",
      "+-----------+---------+\n",
      "|          1|1839096.0|\n",
      "|          2|1344660.0|\n",
      "|          3|2728572.0|\n",
      "+-----------+---------+\n",
      "only showing top 3 rows\n",
      "\n"
     ]
    },
    {
     "name": "stderr",
     "output_type": "stream",
     "text": [
      "\r",
      "                                                                                \r"
     ]
    }
   ],
   "source": [
    "data = []\n",
    "for r1 in tmp.select(tmp.items).toLocalIterator():\n",
    "    if not r1.items:\n",
    "        continue\n",
    "    for r2 in r1.items:\n",
    "        data.append(r2)\n",
    "\n",
    "patient_data = spark.createDataFrame(data)\n",
    "p = patient_data.withColumn('day_of_week', dayofweek(col('stdDay')))\n",
    "\n",
    "# localOccCnt : 당일 발생한 코로나확진자 수 - 해외유입수\n",
    "# 요일별 발생한 환자 수의 합을 구한 뒤 요일로 오름차순 정렬하시오\n",
    "p = p.groupBy(p.day_of_week).agg(sum(col('localOccCnt')).alias('patients')).sort(col('day_of_week'))\n",
    "p.show()\n",
    "\n"
   ]
  },
  {
   "cell_type": "code",
   "execution_count": 28,
   "metadata": {},
   "outputs": [
    {
     "name": "stderr",
     "output_type": "stream",
     "text": [
      "\r",
      "[Stage 44:>                                                         (0 + 1) / 1]\r",
      "\r",
      "                                                                                \r"
     ]
    },
    {
     "data": {
      "text/plain": [
       "<AxesSubplot:>"
      ]
     },
     "execution_count": 28,
     "metadata": {},
     "output_type": "execute_result"
    },
    {
     "name": "stderr",
     "output_type": "stream",
     "text": [
      "findfont: Font family ['NanumGothic'] not found. Falling back to DejaVu Sans.\n"
     ]
    },
    {
     "data": {
      "image/png": "[encoded data removed]",
      "text/plain": [
       "<Figure size 600x600 with 1 Axes>"
      ]
     },
     "metadata": {},
     "output_type": "display_data"
    }
   ],
   "source": [
    "pd_week = p.toPandas()\n",
    "pd_week.plot(kind='bar', figsize=(6, 6))"
   ]
  }
 ],
 "metadata": {
  "kernelspec": {
   "display_name": "Python 3 (ipykernel)",
   "language": "python",
   "name": "python3"
  },
  "language_info": {
   "codemirror_mode": {
    "name": "ipython",
    "version": 3
   },
   "file_extension": ".py",
   "mimetype": "text/x-python",
   "name": "python",
   "nbconvert_exporter": "python",
   "pygments_lexer": "ipython3",
   "version": "3.8.10"
  }
 },
 "nbformat": 4,
 "nbformat_minor": 5
}
